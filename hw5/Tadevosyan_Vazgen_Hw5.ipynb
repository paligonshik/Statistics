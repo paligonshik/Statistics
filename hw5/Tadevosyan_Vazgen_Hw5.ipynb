{
 "cells": [
  {
   "cell_type": "markdown",
   "metadata": {},
   "source": [
    "# Fall 2021\n",
    "# Homework #5\n",
    "# Sampling Distributions\n",
    "## Vazgen Tadevosyan"
   ]
  },
  {
   "cell_type": "markdown",
   "metadata": {},
   "source": [
    "### 1. Random samples of size 𝑛 were taken from populations given below. Given your knowledge of the underlying distributions, determine the means and standard deviations of the sampling distributions"
   ]
  },
  {
   "cell_type": "markdown",
   "metadata": {},
   "source": [
    "a. Sample is from an unknown distribution with $$ 𝑛 = 36, 𝜇 = 10, 𝜎^2= 9 , statistic\\ is\\ \\overline X  $$"
   ]
  },
  {
   "cell_type": "code",
   "execution_count": 239,
   "metadata": {},
   "outputs": [],
   "source": [
    "from scipy.stats import norm\n",
    "import numpy as np\n",
    "import random\n",
    "from scipy.stats import binom\n",
    "import pandas as pd"
   ]
  },
  {
   "cell_type": "code",
   "execution_count": 151,
   "metadata": {},
   "outputs": [
    {
     "data": {
      "text/plain": [
       "12.50953"
      ]
     },
     "execution_count": 151,
     "metadata": {},
     "output_type": "execute_result"
    }
   ],
   "source": [
    "np.mean(list(map(np.mean,sample)))\n"
   ]
  },
  {
   "cell_type": "code",
   "execution_count": 152,
   "metadata": {},
   "outputs": [
    {
     "name": "stdout",
     "output_type": "stream",
     "text": [
      "10.0 0.5\n"
     ]
    }
   ],
   "source": [
    "#generates 10000 samples with sample size 34\n",
    "sample = np.random.normal(loc=10, scale=3, size=(10000,36))\n",
    "mean_of_means =np.mean(list(map(np.mean,sample)))\n",
    "stds_means = np.std(list(map(np.mean,sample)))\n",
    "print (round(mean_of_means,2),round(stds_means,3))"
   ]
  },
  {
   "cell_type": "markdown",
   "metadata": {},
   "source": [
    "b. Sample is from an unknown distribution with $$ 𝑛 = 8, 𝜇 = 120, 𝜎^2= 4 , statistic\\ is\\ \\overline X  $$"
   ]
  },
  {
   "cell_type": "code",
   "execution_count": 175,
   "metadata": {},
   "outputs": [
    {
     "name": "stdout",
     "output_type": "stream",
     "text": [
      "120.0 0.72\n"
     ]
    }
   ],
   "source": [
    "#generates 10000 samples with sample size 8\n",
    "sample = np.random.normal(loc=120, scale=2, size=(10000,8))\n",
    "mean_of_means =np.mean(list(map(np.mean,sample)))\n",
    "stds_means = np.std(list(map(np.mean,sample)))\n",
    "print (round(mean_of_means,2),round(stds_means,3))"
   ]
  },
  {
   "cell_type": "markdown",
   "metadata": {},
   "source": [
    "b. Sample is from an unknown distribution with $$ 𝑛 = 25, \\pi=0.5, statistic\\ is\\ \\hat{p}  $$"
   ]
  },
  {
   "cell_type": "code",
   "execution_count": 168,
   "metadata": {
    "scrolled": true
   },
   "outputs": [
    {
     "name": "stdout",
     "output_type": "stream",
     "text": [
      "12.5 0.5\n"
     ]
    }
   ],
   "source": [
    "# it is like a  result of flipping a coin 25 times, tested 1000 times.\n",
    "# as much we increase test or sample size as closer they get to population mean and std\n",
    "samples = np.random.binomial(n=25, p=0.5,size=(100000,25))\n",
    "mean_of_means =np.mean(list(map(np.mean,samples)))\n",
    "stds_means = np.std(list(map(np.mean,samples)))\n",
    "print(round(mean_of_means,3),round(stds_means,3))\n",
    "#I got wrong answer for std,it is probably sample size 25 is not representative,\n",
    "#I will calculate by hand as well."
   ]
  },
  {
   "cell_type": "code",
   "execution_count": 176,
   "metadata": {},
   "outputs": [
    {
     "name": "stdout",
     "output_type": "stream",
     "text": [
      "0.1\n"
     ]
    }
   ],
   "source": [
    "print(np.sqrt((0.5**2)/25))"
   ]
  },
  {
   "cell_type": "markdown",
   "metadata": {},
   "source": [
    "d. Sample is from a Poisson distribution with 𝜆 = 4, 𝑛 = 16, statistic is 𝑋 ̅\n",
    "(we didn’t\n",
    "explicitly talk about this case, but use what we know about sampling distributions of\n",
    "averages to solve for the Poisson distribution)."
   ]
  },
  {
   "cell_type": "code",
   "execution_count": 177,
   "metadata": {
    "scrolled": true
   },
   "outputs": [
    {
     "name": "stdout",
     "output_type": "stream",
     "text": [
      "4.0 0.5\n"
     ]
    }
   ],
   "source": [
    "samples = np.random.poisson(lam=4, size=(100000,16))\n",
    "mean_of_means = np.mean(list(map(np.mean,samples)))\n",
    "stds_means = np.std(list(map(np.mean,samples)))\n",
    "print(round(mean_of_means,3),round(stds_means,3))"
   ]
  },
  {
   "cell_type": "markdown",
   "metadata": {},
   "source": [
    "### 2. Suppose a random sample of size 25 observations is selected from a population that is normally distributed with mean 106 and standard deviation equal to 12."
   ]
  },
  {
   "cell_type": "markdown",
   "metadata": {},
   "source": [
    "a. Give the mean and standard deviation of the sampling distribution of the sample mean"
   ]
  },
  {
   "cell_type": "code",
   "execution_count": 184,
   "metadata": {
    "scrolled": true
   },
   "outputs": [
    {
     "name": "stdout",
     "output_type": "stream",
     "text": [
      "105.87 0.5\n"
     ]
    }
   ],
   "source": [
    "sample = np.random.normal(loc=106, scale=12, size=(10000,25))\n",
    "mean_of_means = np.mean(list(map(np.mean,samples)))\n",
    "stds_means = np.std(list(map(np.mean,samples)))\n",
    "print (round(sample_mean,3), round(stds_means,3))"
   ]
  },
  {
   "cell_type": "code",
   "execution_count": 197,
   "metadata": {},
   "outputs": [
    {
     "data": {
      "text/plain": [
       "2.4"
      ]
     },
     "execution_count": 197,
     "metadata": {},
     "output_type": "execute_result"
    }
   ],
   "source": [
    "#again I got wrong answer for std, I'll solve by hand\n",
    "std_of_means = 12/5\n",
    "std_of_means"
   ]
  },
  {
   "cell_type": "markdown",
   "metadata": {},
   "source": [
    "b. Find the probability that x-bar exceeds 110."
   ]
  },
  {
   "cell_type": "code",
   "execution_count": 198,
   "metadata": {},
   "outputs": [
    {
     "data": {
      "text/plain": [
       "0.048"
      ]
     },
     "execution_count": 198,
     "metadata": {},
     "output_type": "execute_result"
    }
   ],
   "source": [
    "round(1-norm(loc = 106, scale = std_of_means).cdf(110),3)"
   ]
  },
  {
   "cell_type": "markdown",
   "metadata": {},
   "source": [
    "c. Find the probability that the sample mean deviates from the population mean by no more than 4.\n"
   ]
  },
  {
   "cell_type": "code",
   "execution_count": 200,
   "metadata": {},
   "outputs": [
    {
     "name": "stdout",
     "output_type": "stream",
     "text": [
      "0.934\n"
     ]
    }
   ],
   "source": [
    "prob = norm(loc = 106, scale = std_of_means).cdf(110)-norm(loc = 106, scale = std_of_means).cdf(101)\n",
    "print(round(prob,3))"
   ]
  },
  {
   "cell_type": "markdown",
   "metadata": {},
   "source": [
    "d. Find the probability that x-bar is less than 100."
   ]
  },
  {
   "cell_type": "code",
   "execution_count": 202,
   "metadata": {},
   "outputs": [
    {
     "data": {
      "text/plain": [
       "0.006"
      ]
     },
     "execution_count": 202,
     "metadata": {},
     "output_type": "execute_result"
    }
   ],
   "source": [
    "round(norm(loc = 106, scale = std_of_means).cdf(100),3)"
   ]
  },
  {
   "cell_type": "markdown",
   "metadata": {},
   "source": [
    "3.An advertiser claims that the average percentage of brown M&Ms candies in a package of milk chocolate M&Ms is 13%. Suppose you randomly select a package that contains 55 pieces and determine the proportion of brown candies in the package."
   ]
  },
  {
   "cell_type": "markdown",
   "metadata": {},
   "source": [
    "a. What is the approximate distribution of the sample proportion of brown candies in a package that contains 55 candies?"
   ]
  },
  {
   "cell_type": "code",
   "execution_count": 220,
   "metadata": {},
   "outputs": [
    {
     "data": {
      "text/plain": [
       "array([ 6.122622  ,  8.60016262,  5.34689161,  8.42859762,  7.34222057,\n",
       "        8.74524494,  8.50897896,  9.64052701, 11.2911499 ,  4.35124479,\n",
       "        9.05900275,  6.64317646,  4.81600497,  3.72064501,  5.18621665,\n",
       "        7.3119697 , 10.12920187,  5.75203884, 10.37509404,  6.21942826,\n",
       "        8.49444242,  7.31166893,  4.35038107,  6.03485678,  5.1678154 ,\n",
       "        9.05208648,  5.89595062,  6.01205063,  6.46099201, 11.0603768 ,\n",
       "        7.69407152,  9.59489515, 11.31841762,  9.31451667,  6.56137385,\n",
       "        8.4816972 , 11.29388155,  8.265428  ,  7.85069969,  7.45983483,\n",
       "        6.91114714,  7.44301891,  9.29408091,  6.57031053,  8.36882538,\n",
       "       11.70688804,  9.76463906,  5.2815325 ,  9.73176597,  4.68704656,\n",
       "        7.99114608,  8.28454064,  4.67765127])"
      ]
     },
     "execution_count": 220,
     "metadata": {},
     "output_type": "execute_result"
    }
   ],
   "source": [
    "pi = 0.13\n",
    "n = 55\n",
    "mu = n*pi\n",
    "std = np.sqrt(mu*(1-pi))\n",
    "#it can't be considered normal distribution as n*p<10 however.\n",
    "\n",
    "np.random.normal(loc=mu,scale=std,size=53)"
   ]
  },
  {
   "cell_type": "markdown",
   "metadata": {},
   "source": [
    "b. What is the probability that the sample percentage of brown candies is less than 20%?"
   ]
  },
  {
   "cell_type": "code",
   "execution_count": 232,
   "metadata": {},
   "outputs": [
    {
     "data": {
      "text/plain": [
       "0.194"
      ]
     },
     "execution_count": 232,
     "metadata": {},
     "output_type": "execute_result"
    }
   ],
   "source": [
    "the_number = binom(55, 0.13).ppf(0.20)\n",
    "round(norm(loc = mu, scale = std).cdf(the_number),3)"
   ]
  },
  {
   "cell_type": "markdown",
   "metadata": {},
   "source": [
    "c. What is the probability that the sample percentage exceeds 35%?\n"
   ]
  },
  {
   "cell_type": "code",
   "execution_count": 235,
   "metadata": {},
   "outputs": [
    {
     "data": {
      "text/plain": [
       "1"
      ]
     },
     "execution_count": 235,
     "metadata": {},
     "output_type": "execute_result"
    }
   ],
   "source": [
    "number =  binom(55, 0.13).ppf(0.35)\n",
    "round(1-round(norm(loc = mu, scale = std).cdf(number),3))"
   ]
  },
  {
   "cell_type": "markdown",
   "metadata": {},
   "source": [
    "d. What value would you expect the sample proportion to be greater than 95% of the time?"
   ]
  },
  {
   "cell_type": "code",
   "execution_count": 237,
   "metadata": {},
   "outputs": [
    {
     "data": {
      "text/plain": [
       "11.0"
      ]
     },
     "execution_count": 237,
     "metadata": {},
     "output_type": "execute_result"
    }
   ],
   "source": [
    "binom(55, 0.13).ppf(0.95)\n",
    "#more than 11 brown candies in 55"
   ]
  },
  {
   "cell_type": "markdown",
   "metadata": {},
   "source": [
    "## 4Use the viscosity data from HW#1"
   ]
  },
  {
   "cell_type": "markdown",
   "metadata": {},
   "source": [
    "a. Determine if the data can be considered normal. Justify your answer with a normal probability plot."
   ]
  },
  {
   "cell_type": "code",
   "execution_count": 240,
   "metadata": {},
   "outputs": [
    {
     "data": {
      "text/html": [
       "<div>\n",
       "<style scoped>\n",
       "    .dataframe tbody tr th:only-of-type {\n",
       "        vertical-align: middle;\n",
       "    }\n",
       "\n",
       "    .dataframe tbody tr th {\n",
       "        vertical-align: top;\n",
       "    }\n",
       "\n",
       "    .dataframe thead th {\n",
       "        text-align: right;\n",
       "    }\n",
       "</style>\n",
       "<table border=\"1\" class=\"dataframe\">\n",
       "  <thead>\n",
       "    <tr style=\"text-align: right;\">\n",
       "      <th></th>\n",
       "      <th>Viscosity</th>\n",
       "    </tr>\n",
       "    <tr>\n",
       "      <th>Batch</th>\n",
       "      <th></th>\n",
       "    </tr>\n",
       "  </thead>\n",
       "  <tbody>\n",
       "    <tr>\n",
       "      <th>1</th>\n",
       "      <td>84.63</td>\n",
       "    </tr>\n",
       "    <tr>\n",
       "      <th>2</th>\n",
       "      <td>86.84</td>\n",
       "    </tr>\n",
       "    <tr>\n",
       "      <th>3</th>\n",
       "      <td>84.54</td>\n",
       "    </tr>\n",
       "    <tr>\n",
       "      <th>4</th>\n",
       "      <td>85.56</td>\n",
       "    </tr>\n",
       "    <tr>\n",
       "      <th>5</th>\n",
       "      <td>85.40</td>\n",
       "    </tr>\n",
       "  </tbody>\n",
       "</table>\n",
       "</div>"
      ],
      "text/plain": [
       "       Viscosity\n",
       "Batch           \n",
       "1          84.63\n",
       "2          86.84\n",
       "3          84.54\n",
       "4          85.56\n",
       "5          85.40"
      ]
     },
     "execution_count": 240,
     "metadata": {},
     "output_type": "execute_result"
    }
   ],
   "source": [
    "viscosity = pd.read_csv('viscosity.txt', delimiter = \"\\t\",index_col=0)\n",
    "viscosity.head()"
   ]
  },
  {
   "cell_type": "code",
   "execution_count": 242,
   "metadata": {},
   "outputs": [],
   "source": [
    "from scipy.stats import probplot\n",
    "import pylab \n",
    "import scipy.stats as stats"
   ]
  },
  {
   "cell_type": "code",
   "execution_count": 243,
   "metadata": {
    "scrolled": true
   },
   "outputs": [
    {
     "data": {
      "image/png": "[encoded data removed]",
      "text/plain": [
       "<Figure size 432x288 with 1 Axes>"
      ]
     },
     "metadata": {
      "needs_background": "light"
     },
     "output_type": "display_data"
    }
   ],
   "source": [
    "measurements = viscosity['Viscosity']\n",
    "stats.probplot(measurements, dist=\"norm\", plot=pylab)\n",
    "pylab.show()"
   ]
  },
  {
   "cell_type": "markdown",
   "metadata": {},
   "source": [
    "#### it seems that data is not normally distributed, however let's conduct shapiro test."
   ]
  },
  {
   "cell_type": "code",
   "execution_count": 246,
   "metadata": {},
   "outputs": [
    {
     "data": {
      "text/plain": [
       "2.0043020413140766e-05"
      ]
     },
     "execution_count": 246,
     "metadata": {},
     "output_type": "execute_result"
    }
   ],
   "source": [
    "from scipy import stats\n",
    "shapiro_test = stats.shapiro(measurements)\n",
    "shapiro_test.pvalue"
   ]
  },
  {
   "cell_type": "markdown",
   "metadata": {},
   "source": [
    "### we reject null hypothesis as the p-value is less than 0.05,\n",
    "### data does not come from normal distribution"
   ]
  },
  {
   "cell_type": "markdown",
   "metadata": {},
   "source": [
    "b. Based on your answer to part a. and assuming the process mean is typically 85 with a standard deviation of 2. What’s the probability of a sample mean less than 83.36?"
   ]
  },
  {
   "cell_type": "code",
   "execution_count": 254,
   "metadata": {},
   "outputs": [
    {
     "data": {
      "text/plain": [
       "0.0"
      ]
     },
     "execution_count": 254,
     "metadata": {},
     "output_type": "execute_result"
    }
   ],
   "source": [
    "# \n",
    "round(norm(loc = 85, scale = 2/np.sqrt(len(measurements))).cdf(83.36),3)"
   ]
  },
  {
   "cell_type": "markdown",
   "metadata": {},
   "source": [
    "c. What do you think about this sample?"
   ]
  },
  {
   "cell_type": "markdown",
   "metadata": {},
   "source": [
    "Data is not representative, perhaps we need more measurements for viscosity to have more precise point estimators. As sample mean is significantly different from population mean."
   ]
  },
  {
   "cell_type": "code",
   "execution_count": null,
   "metadata": {},
   "outputs": [],
   "source": []
  }
 ],
 "metadata": {
  "kernelspec": {
   "display_name": "Python 3",
   "language": "python",
   "name": "python3"
  },
  "language_info": {
   "codemirror_mode": {
    "name": "ipython",
    "version": 3
   },
   "file_extension": ".py",
   "mimetype": "text/x-python",
   "name": "python",
   "nbconvert_exporter": "python",
   "pygments_lexer": "ipython3",
   "version": "3.8.5"
  }
 },
 "nbformat": 4,
 "nbformat_minor": 4
}
